{
 "cells": [
  {
   "cell_type": "markdown",
   "id": "eff0fbfb",
   "metadata": {},
   "source": [
    "# 🧩 Recursion Practice Problems\n",
    "These exercises give you hands-on practice with recursion in Python.\n",
    "Each problem includes a short description followed by an empty code block — fill in your own solution!"
   ]
  },
  {
   "cell_type": "markdown",
   "id": "80791047",
   "metadata": {},
   "source": [
    "## 1️⃣ Reverse a String\n",
    "Write a recursive function `reverse(s)` that returns the reverse of a string."
   ]
  },
  {
   "cell_type": "code",
   "execution_count": null,
   "id": "2",
   "metadata": {},
   "outputs": [
    {
     "name": "stdout",
     "output_type": "stream",
     "text": [
      "olleh\n"
     ]
    }
   ],
   "source": [
    "# TODO: Implement reverse(s)\n",
    "def reverse(txt):\n",
    "    #if length or text is nothing, return nothing \n",
    "    if txt == '': return ''\n",
    "    #else return the reverse of the text (1: returns rest of string w/out first letter) and then puts first letter at the end\n",
    "    else: return reverse(txt[1:]) + txt[0]\n",
    "\n",
    "txt = 'hello'\n",
    "print(reverse(txt))\n",
    "\n"
   ]
  },
  {
   "cell_type": "code",
   "execution_count": null,
   "id": "839523d5",
   "metadata": {},
   "outputs": [],
   "source": []
  },
  {
   "cell_type": "markdown",
   "id": "b438b95c",
   "metadata": {},
   "source": [
    "## 2️⃣ Palindrome Check\n",
    "Write a recursive function `is_palindrome(s)` that returns `True` if the string reads the same forward and backward."
   ]
  },
  {
   "cell_type": "code",
   "execution_count": 7,
   "id": "4",
   "metadata": {},
   "outputs": [
    {
     "name": "stdout",
     "output_type": "stream",
     "text": [
      "True\n"
     ]
    }
   ],
   "source": [
    "# TODO: Implement is_palindrome(s)\n",
    "def is_palindrome(txt):\n",
    "    #once less than or equal to 1 return back what we had\n",
    "    if len(txt) <= 1: return True\n",
    "    #if txt of 0 is not equal to text -1, return 0 is not same foward or backwards, if equal reduce string, call again \n",
    "    elif txt[0] != txt[-1]: return False\n",
    "    else: return(is_palindrome(txt[1:-1]))\n",
    "print(is_palindrome('racecar'))"
   ]
  },
  {
   "cell_type": "markdown",
   "id": "096f6e39",
   "metadata": {},
   "source": [
    "## 3️⃣ Count Occurrences\n",
    "Write a recursive function `count_occurrences(lst, target)` that counts how many times `target` appears in the list."
   ]
  },
  {
   "cell_type": "code",
   "execution_count": null,
   "id": "6",
   "metadata": {},
   "outputs": [
    {
     "name": "stdout",
     "output_type": "stream",
     "text": [
      "3\n"
     ]
    }
   ],
   "source": [
    "# TODO: Implement count_occurrences(lst, target)\n",
    "def count_occurrences(lst, target):\n",
    "    #Create loop to: return 0 if list is nothing\n",
    "    if len(lst) == 0: return 0 \n",
    "    #if first item on list is target, add 1 to count occurrences \n",
    "    elif lst[0] == target: return 1 + count_occurrences(lst[1:], target)\n",
    "    #if not 0 and not equal to target, do nothing to count occurrences \n",
    "    else: return 0 + count_occurrences(lst[1:], target)\n",
    "\n",
    "lst = [1, 1, 8, 3, 2, 3, 1, 4, 2]\n",
    "print(count_occurrences(lst, 1))"
   ]
  },
  {
   "cell_type": "markdown",
   "id": "c3eac5bf",
   "metadata": {},
   "source": [
    "## 4️⃣ Sum of Digits\n",
    "Write a recursive function `sum_digits(n)` that returns the sum of the digits of a non-negative integer."
   ]
  },
  {
   "cell_type": "code",
   "execution_count": null,
   "id": "8",
   "metadata": {},
   "outputs": [
    {
     "name": "stdout",
     "output_type": "stream",
     "text": [
      "6\n"
     ]
    }
   ],
   "source": [
    "# TODO: Implement sum_digits(n)\n",
    "def sum_digits(n):\n",
    "    #if n is 0, return 0 \n",
    "    if n == 0: return 0\n",
    "    #if n is a value, take modulus 10 of number to get the 3 and take the sum of 12\n",
    "    else: return n % 10 + sum_digits(n//10)\n",
    "print(sum_digits(123))\n"
   ]
  },
  {
   "cell_type": "markdown",
   "id": "6558c87b",
   "metadata": {},
   "source": [
    "## 5️⃣ Power Function\n",
    "Write a recursive function `power(a, b)` that returns a to the power of b (a^b)."
   ]
  },
  {
   "cell_type": "code",
   "execution_count": null,
   "id": "10",
   "metadata": {},
   "outputs": [
    {
     "name": "stdout",
     "output_type": "stream",
     "text": [
      "32\n"
     ]
    }
   ],
   "source": [
    "# TODO: Implement power(a, b)\n",
    "def power(a, b):\n",
    "    if (b == 0): return 1\n",
    "    #take powers first and then return a * power of 2, 4 to get power 2,5\n",
    "    else: return a * power(a, b -1)\n",
    "print(power(2, 5))"
   ]
  },
  {
   "cell_type": "markdown",
   "id": "ae684e33",
   "metadata": {},
   "source": [
    "## 6️⃣ Find Maximum in a List\n",
    "Write a recursive function `find_max(lst)` that returns the largest element in the list.\n"
   ]
  },
  {
   "cell_type": "code",
   "execution_count": null,
   "id": "12",
   "metadata": {},
   "outputs": [
    {
     "name": "stdout",
     "output_type": "stream",
     "text": [
      "98\n"
     ]
    }
   ],
   "source": [
    "# TODO: Implement find_max(lst)\n",
    "def find_max(lst):\n",
    "    float('-inf')\n",
    "    if len(lst) == 0: return float('-inf')\n",
    "    #compares number on lst to infinity and keeps going until it finds largest number in lst\n",
    "    else:\n",
    "        return max(lst[0], find_max(lst[1:]))\n",
    "    \n",
    "print(find_max([1, 3, 98, 2, 5]))"
   ]
  },
  {
   "cell_type": "markdown",
   "id": "24c21f1a",
   "metadata": {},
   "source": [
    "## 7️⃣ Product of Elements in a List\n",
    "Write a recursive function `product(lst)` that returns the product of all elements in a list.\n",
    "Return 1 for an empty list."
   ]
  },
  {
   "cell_type": "code",
   "execution_count": 25,
   "id": "14",
   "metadata": {},
   "outputs": [
    {
     "name": "stdout",
     "output_type": "stream",
     "text": [
      "150\n"
     ]
    }
   ],
   "source": [
    "# TODO: Implement product(lst)\n",
    "def product(lst):\n",
    "    if len(lst) == 0: return 1\n",
    "    else: return lst[0] * product(lst[1:])\n",
    "print(product([5, 3, 2, 5]))\n",
    "    "
   ]
  },
  {
   "cell_type": "markdown",
   "id": "10ff5354",
   "metadata": {},
   "source": [
    "## 8️⃣ Flatten a Nested List\n",
    "Write a recursive function `flatten(lst)` that takes a nested list and returns a single flat list.\n",
    "Example: `[1, [2, [3, 4]], 5] → [1, 2, 3, 4, 5]`"
   ]
  },
  {
   "cell_type": "code",
   "execution_count": 28,
   "id": "16",
   "metadata": {},
   "outputs": [
    {
     "name": "stdout",
     "output_type": "stream",
     "text": [
      "[1, 2, 3, 4, 5]\n"
     ]
    }
   ],
   "source": [
    "# TODO: Implement flatten(lst)\n",
    "def flatten(lst):\n",
    "    if len(lst) == 0: return[]\n",
    "    elif isinstance(lst[0], list): return flatten(lst[0]) + flatten(lst[1:])\n",
    "    else: return [lst[0]] + flatten(lst[1:])\n",
    "\n",
    "lst = [1, [2, [3, 4]], 5] \n",
    "print(flatten(lst))"
   ]
  },
  {
   "cell_type": "markdown",
   "id": "081abef6",
   "metadata": {},
   "source": [
    "## 9️⃣ Print Numbers in Binary\n",
    "Write a recursive function `to_binary(n)` that prints the binary representation of a non-negative integer."
   ]
  },
  {
   "cell_type": "code",
   "execution_count": 30,
   "id": "18",
   "metadata": {},
   "outputs": [
    {
     "name": "stdout",
     "output_type": "stream",
     "text": [
      "11\n"
     ]
    }
   ],
   "source": [
    "# TODO: Implement to_binary(n)\n",
    "def to_binary(n):\n",
    "    if n <= 1: return n\n",
    "    else: return str(to_binary(n//2)) + str(n % 2)\n",
    "\n",
    "print(to_binary(3))\n"
   ]
  },
  {
   "cell_type": "markdown",
   "id": "8d6a5c90",
   "metadata": {},
   "source": [
    "## 10. Draw a Triangle of Stars\n",
    "\n",
    "Write a recursive function `triangle(n)` that prints a right-angled triangle with `n` rows of `*`.\n",
    "\n",
    "Example for n=4:\n",
    "```\n",
    "*\n",
    "**\n",
    "***\n",
    "****\n",
    "```\n"
   ]
  },
  {
   "cell_type": "code",
   "execution_count": null,
   "id": "a6d8a3f5",
   "metadata": {},
   "outputs": [
    {
     "name": "stdout",
     "output_type": "stream",
     "text": [
      "*\n",
      "*\n",
      "**\n",
      "***\n",
      "****\n"
     ]
    }
   ],
   "source": [
    "# TODO: Implement triangle(n)\n",
    "def triangle(n):\n",
    "    if n == 1: print('*')\n",
    "    else: triangle(n - 1)\n",
    "    print('*' * n)\n",
    " \n",
    "# Test your function\n",
    "triangle(4)\n"
   ]
  }
 ],
 "metadata": {
  "kernelspec": {
   "display_name": "venv",
   "language": "python",
   "name": "python3"
  },
  "language_info": {
   "codemirror_mode": {
    "name": "ipython",
    "version": 3
   },
   "file_extension": ".py",
   "mimetype": "text/x-python",
   "name": "python",
   "nbconvert_exporter": "python",
   "pygments_lexer": "ipython3",
   "version": "3.10.18"
  }
 },
 "nbformat": 4,
 "nbformat_minor": 5
}
