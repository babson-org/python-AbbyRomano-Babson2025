quote = input('Enter your favorite quote: ')
# Save to file
with open('quote.txt', 'w') as f:
    f.write(quote)
# Read back and print
with open('quote.txt', 'r') as f:
    saved_quote = f.read()
print('Your quote:', saved_quote)