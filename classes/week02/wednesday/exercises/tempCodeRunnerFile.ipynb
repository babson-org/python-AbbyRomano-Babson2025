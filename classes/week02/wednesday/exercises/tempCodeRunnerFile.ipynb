for idx in range(1,21):
    for idx % 3 != 0: print(idx)