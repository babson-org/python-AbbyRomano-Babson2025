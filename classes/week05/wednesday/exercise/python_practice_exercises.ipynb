{
 "cells": [
  {
   "cell_type": "markdown",
   "id": "0",
   "metadata": {},
   "source": [
    "# 📝 Python Practice Exercises\n",
    "This notebook contains 20 exercises based on Python fundamentals."
   ]
  },
  {
   "cell_type": "markdown",
   "id": "1",
   "metadata": {},
   "source": [
    "**Exercise 1: Arithmetic Practice**\n",
    "\n",
    "Write Python expressions that calculate:\n",
    "- 7 squared\n",
    "- the remainder of 29 divided by 5\n",
    "- floor division of 29 by 5"
   ]
  },
  {
   "cell_type": "code",
   "execution_count": null,
   "id": "2",
   "metadata": {},
   "outputs": [],
   "source": [
    "total = 7 **2\n",
    "remain = 29 % 5\n",
    "floor = 29 // 5\n",
    "\n",
    "print(total,remain, floor)"
   ]
  },
  {
   "cell_type": "markdown",
   "id": "3",
   "metadata": {},
   "source": [
    "**Exercise 2: Comparison Chain**\n",
    "\n",
    "Check if the variable `x = 7` is greater than 5 and less than 10 in one statement."
   ]
  },
  {
   "cell_type": "code",
   "execution_count": null,
   "id": "4",
   "metadata": {},
   "outputs": [],
   "source": [
    "x = 7\n",
    "if x > 5 and x < 10:\n",
    "    pass\n",
    "\n",
    "if 5 < x < 10: print(True)\n"
   ]
  },
  {
   "cell_type": "markdown",
   "id": "5",
   "metadata": {},
   "source": [
    "**Exercise 3: Logical Operators**\n",
    "\n",
    "Write code that checks whether `'b'` is in `'zebra'` **and** `'c'` is not in `'zebra'`."
   ]
  },
  {
   "cell_type": "code",
   "execution_count": null,
   "id": "6",
   "metadata": {},
   "outputs": [],
   "source": [
    "word = 'zebra'\n",
    "\n",
    "if 'b' in word and 'c' not in word: print('b is in c is out')"
   ]
  },
  {
   "cell_type": "markdown",
   "id": "7",
   "metadata": {},
   "source": [
    "**Exercise 4: For Loop Range**\n",
    "\n",
    "Use a `for` loop with `range()` to print the numbers 10 down to 1."
   ]
  },
  {
   "cell_type": "code",
   "execution_count": null,
   "id": "8",
   "metadata": {},
   "outputs": [],
   "source": [
    "for i in range(10,0,-1):\n",
    "    print(i)"
   ]
  },
  {
   "cell_type": "markdown",
   "id": "9",
   "metadata": {},
   "source": [
    "**Exercise 5: While Loop Counter**\n",
    "\n",
    "Write a `while` loop that counts from 0 to 4 and prints the numbers."
   ]
  },
  {
   "cell_type": "code",
   "execution_count": null,
   "id": "10",
   "metadata": {},
   "outputs": [],
   "source": [
    "i = 0\n",
    "while i < 5:\n",
    "    print(i)\n",
    "    i += 1"
   ]
  },
  {
   "cell_type": "markdown",
   "id": "11",
   "metadata": {},
   "source": [
    "**Exercise 6: Simple List Operations**\n",
    "\n",
    "Create a list `[1, 2, 3]`, append the number `4`, and then remove `2`. Print the final list."
   ]
  },
  {
   "cell_type": "code",
   "execution_count": null,
   "id": "12",
   "metadata": {},
   "outputs": [],
   "source": [
    "mylist = [1,2,3]\n",
    "mylist.append(4)\n",
    "print(mylist)\n",
    "\n",
    "mylist.pop(1)\n",
    "print(mylist)"
   ]
  },
  {
   "cell_type": "markdown",
   "id": "13",
   "metadata": {},
   "source": [
    "**Exercise 7: Tuple Count**\n",
    "\n",
    "Given `t = (1, 2, 2, 3)`, use a tuple method to count how many times `2` appears."
   ]
  },
  {
   "cell_type": "code",
   "execution_count": null,
   "id": "14",
   "metadata": {},
   "outputs": [],
   "source": [
    "t = (1,2,2,3)\n",
    "print(t.count(2))"
   ]
  },
  {
   "cell_type": "markdown",
   "id": "15",
   "metadata": {},
   "source": [
    "**Exercise 8: Set Creation**\n",
    "\n",
    "Create a set from the string `'balloon'` and print it. Explain why some letters only appear once."
   ]
  },
  {
   "cell_type": "code",
   "execution_count": null,
   "id": "16",
   "metadata": {},
   "outputs": [],
   "source": [
    "word = 'balloon'\n",
    "letters = set(word)"
   ]
  },
  {
   "cell_type": "markdown",
   "id": "17",
   "metadata": {},
   "source": [
    "**Exercise 9: If/Else with Input**\n",
    "\n",
    "Ask the user for a number. Print `'Even'` if the number is even, otherwise print `'Odd'`."
   ]
  },
  {
   "cell_type": "code",
   "execution_count": null,
   "id": "18",
   "metadata": {},
   "outputs": [],
   "source": [
    "num = int(input('enter an integer'))\n",
    "if num % 2 == 0: print('even')\n",
    "else:print('odd')"
   ]
  },
  {
   "cell_type": "markdown",
   "id": "19",
   "metadata": {},
   "source": [
    "**Exercise 10: Fix Wrong Dictionary Value**\n",
    "\n",
    "`student = {\"name\": \"Alice\", \"age\": 20, \"grade\": 85}`\n",
    "\n",
    "Accidentally, grade should have been `90`. Update it using `update()`."
   ]
  },
  {
   "cell_type": "code",
   "execution_count": null,
   "id": "20",
   "metadata": {},
   "outputs": [],
   "source": [
    "student = {\"name\": \"Alice\", \"age\": 20, \"grade\": 85}\n",
    "student.update({'newgrade': 90})\n",
    "print(student)"
   ]
  },
  {
   "cell_type": "markdown",
   "id": "21",
   "metadata": {},
   "source": [
    "**Exercise 11: Using pop() on Lists**\n",
    "\n",
    "Create `nums = [10, 20, 30, 40]`.\n",
    "- Pop the last number\n",
    "- Pop the first number\n",
    "Print the final list."
   ]
  },
  {
   "cell_type": "code",
   "execution_count": 7,
   "id": "22",
   "metadata": {},
   "outputs": [
    {
     "name": "stdout",
     "output_type": "stream",
     "text": [
      "[10, 20, 30]\n"
     ]
    }
   ],
   "source": [
    "nums = [10, 20, 30, 40]\n",
    "nums.pop(3)\n",
    "print(nums)\n"
   ]
  },
  {
   "cell_type": "markdown",
   "id": "23",
   "metadata": {},
   "source": [
    "**Exercise 12: Dictionary Safe Lookup**\n",
    "\n",
    "Given `student = {\"name\": \"Alice\"}`, use `.get()` to print `'N/A'` if `'grade'` does not exist."
   ]
  },
  {
   "cell_type": "code",
   "execution_count": 8,
   "id": "24",
   "metadata": {},
   "outputs": [
    {
     "name": "stdout",
     "output_type": "stream",
     "text": [
      "N/A\n"
     ]
    }
   ],
   "source": [
    "student = {'name': 'Alice'}\n",
    "print(student.get('grade', 'N/A'))"
   ]
  },
  {
   "cell_type": "markdown",
   "id": "25",
   "metadata": {},
   "source": [
    "**Exercise 13: Loop + If**\n",
    "\n",
    "Loop through the list `[2, 5, 8, 11, 14]`. Print only the numbers greater than 10."
   ]
  },
  {
   "cell_type": "code",
   "execution_count": 13,
   "id": "3bc288a7",
   "metadata": {},
   "outputs": [
    {
     "name": "stdout",
     "output_type": "stream",
     "text": [
      "11\n",
      "14\n"
     ]
    }
   ],
   "source": [
    "nums = [2, 5, 8, 11, 14]\n",
    "for num in nums: \n",
    "    if num > 10:\n",
    "        print(num)\n"
   ]
  },
  {
   "cell_type": "markdown",
   "id": "27",
   "metadata": {},
   "source": [
    "**Exercise 14: Try/Except Handling**\n",
    "\n",
    "Ask the user for an integer. If they type something invalid, print `'Invalid input'` instead of crashing."
   ]
  },
  {
   "cell_type": "code",
   "execution_count": 19,
   "id": "b42f109f",
   "metadata": {},
   "outputs": [
    {
     "ename": "TypeError",
     "evalue": "'int' object is not callable",
     "output_type": "error",
     "traceback": [
      "\u001b[0;31m---------------------------------------------------------------------------\u001b[0m",
      "\u001b[0;31mTypeError\u001b[0m                                 Traceback (most recent call last)",
      "Cell \u001b[0;32mIn[19], line 2\u001b[0m\n\u001b[1;32m      1\u001b[0m \u001b[38;5;28;01mtry\u001b[39;00m:\n\u001b[0;32m----> 2\u001b[0m     num \u001b[38;5;241m=\u001b[39m \u001b[38;5;28;43mint\u001b[39;49m\u001b[43m(\u001b[49m\u001b[38;5;28;43minput\u001b[39;49m\u001b[43m(\u001b[49m\u001b[38;5;124;43m'\u001b[39;49m\u001b[38;5;124;43menter an int\u001b[39;49m\u001b[38;5;124;43m'\u001b[39;49m\u001b[43m)\u001b[49m\u001b[43m)\u001b[49m\n\u001b[1;32m      3\u001b[0m \u001b[38;5;28;01mexcept\u001b[39;00m \u001b[38;5;167;01mValueError\u001b[39;00m:\n\u001b[1;32m      4\u001b[0m     \u001b[38;5;28mprint\u001b[39m(\u001b[38;5;124m'\u001b[39m\u001b[38;5;124minvali input\u001b[39m\u001b[38;5;124m'\u001b[39m)\n",
      "\u001b[0;31mTypeError\u001b[0m: 'int' object is not callable"
     ]
    }
   ],
   "source": [
    "try:\n",
    "    num = int(input('enter an int'))\n",
    "except ValueError:\n",
    "    print('invali input')"
   ]
  },
  {
   "cell_type": "markdown",
   "id": "29",
   "metadata": {},
   "source": [
    "**Exercise 15: Dictionary popitem()**\n",
    "\n",
    "Create a dictionary with three key-value pairs. Call `popitem()` and print both the returned item and the dictionary after."
   ]
  },
  {
   "cell_type": "code",
   "execution_count": 20,
   "id": "30",
   "metadata": {},
   "outputs": [
    {
     "name": "stdout",
     "output_type": "stream",
     "text": [
      "('subject', 'math101')\n",
      "{'grade': 90, 'name': 'alice'}\n"
     ]
    }
   ],
   "source": [
    "jack = {'grade': 90, 'name': 'alice', 'subject' : 'math101'}\n",
    "print(jack.popitem())\n",
    "print(jack)"
   ]
  },
  {
   "cell_type": "markdown",
   "id": "31",
   "metadata": {},
   "source": [
    "**Exercise 16: Reverse a List**\n",
    "\n",
    "Write a program that creates a list of numbers from 1 to 5 and then reverses it in place."
   ]
  },
  {
   "cell_type": "code",
   "execution_count": 25,
   "id": "32",
   "metadata": {},
   "outputs": [
    {
     "name": "stdout",
     "output_type": "stream",
     "text": [
      "[5, 4, 3, 2, 1]\n"
     ]
    }
   ],
   "source": [
    "myList = [1, 2, 3, 4, 5]\n",
    "myList.sort(reverse = True)\n",
    "print(myList)"
   ]
  },
  {
   "cell_type": "markdown",
   "id": "33",
   "metadata": {},
   "source": [
    "\n",
    "**Exercise 17: Nested Loop with Condition**\n",
    "\n",
    "Print a multiplication table (1–5) but skip printing results where the product is greater than 12.\n",
    "\n",
    "expected output:\n",
    "\n",
    "1 x 1 = 1  \n",
    "1 x 2 = 2   \n",
    "1 x 3 = 3   \n",
    "1 x 4 = 4   \n",
    "1 x 5 = 5   \n",
    "\n",
    "2 x 1 = 2   \n",
    "2 x 2 = 4   \n",
    "2 x 3 = 6   \n",
    "2 x 4 = 8   \n",
    "2 x 5 = 10   \n",
    "\n",
    "3 x 1 = 3   \n",
    "3 x 2 = 6   \n",
    "3 x 3 = 9   \n",
    "3 x 4 = 12   \n",
    "\n",
    "4 x 1 = 4  \n",
    "4 x 2 = 8   \n",
    " \n",
    "5 x 1 = 5   \n",
    "5 x 2 = 10   \n"
   ]
  },
  {
   "cell_type": "code",
   "execution_count": null,
   "id": "34",
   "metadata": {},
   "outputs": [
    {
     "name": "stdout",
     "output_type": "stream",
     "text": [
      "1 * 1 = 1\n",
      "1 * 2 = 2\n",
      "1 * 3 = 3\n",
      "1 * 4 = 4\n",
      "1 * 5 = 5\n",
      "\n",
      "2 * 1 = 2\n",
      "2 * 2 = 4\n",
      "2 * 3 = 6\n",
      "2 * 4 = 8\n",
      "2 * 5 = 10\n",
      "\n",
      "3 * 1 = 3\n",
      "3 * 2 = 6\n",
      "3 * 3 = 9\n",
      "3 * 4 = 12\n",
      "\n",
      "4 * 1 = 4\n",
      "4 * 2 = 8\n",
      "4 * 3 = 12\n",
      "\n",
      "5 * 1 = 5\n",
      "5 * 2 = 10\n",
      "\n"
     ]
    }
   ],
   "source": [
    "for idx in range(1, 6):\n",
    "    for jdx in range(1, 6):\n",
    "        if idx * jdx <= 12:\n",
    "            print(f'{idx} * {jdx} = {idx * jdx}')\n",
    "    print() #in I loop so every time it goes to another i, it spaces "
   ]
  },
  {
   "cell_type": "markdown",
   "id": "35",
   "metadata": {},
   "source": [
    "**Exercise 18: Grades Dictionary**\n",
    "\n",
    "Create a dictionary of students where each value is a list of grades. Example:\n",
    "```python\n",
    "students = {\"Alice\": [90, 85], \"Bob\": [70, 75]}\n",
    "```\n",
    "Loop through and print each student’s name and their average grade."
   ]
  },
  {
   "cell_type": "code",
   "execution_count": null,
   "id": "36",
   "metadata": {},
   "outputs": [
    {
     "name": "stdout",
     "output_type": "stream",
     "text": [
      "Alice\n",
      "Bob\n"
     ]
    },
    {
     "ename": "TypeError",
     "evalue": "'dict' object is not callable",
     "output_type": "error",
     "traceback": [
      "\u001b[0;31m---------------------------------------------------------------------------\u001b[0m",
      "\u001b[0;31mTypeError\u001b[0m                                 Traceback (most recent call last)",
      "Cell \u001b[0;32mIn[36], line 4\u001b[0m\n\u001b[1;32m      2\u001b[0m \u001b[38;5;28;01mfor\u001b[39;00m name \u001b[38;5;129;01min\u001b[39;00m students: \n\u001b[1;32m      3\u001b[0m     \u001b[38;5;28mprint\u001b[39m(name)\n\u001b[0;32m----> 4\u001b[0m \u001b[38;5;28mprint\u001b[39m(\u001b[43mstudents\u001b[49m\u001b[43m(\u001b[49m\u001b[43mname\u001b[49m\u001b[43m)\u001b[49m)\n",
      "\u001b[0;31mTypeError\u001b[0m: 'dict' object is not callable"
     ]
    }
   ],
   "source": [
    "students = {'Alice': [90, 85], 'Bob': [70, 75]}\n",
    "for name in students: \n",
    "    print(name)\n"
   ]
  },
  {
   "cell_type": "markdown",
   "id": "37",
   "metadata": {},
   "source": [
    "**Exercise 19: List of Dictionaries Fix**\n",
    "\n",
    "You are given a list of dictionaries representing items for sale:\n",
    "```python\n",
    "items = [\n",
    "    {\"name\": \"Pen\", \"qty\": 10, \"price\": 2, \"total\": 25},  # wrong\n",
    "    {\"name\": \"Book\", \"qty\": 3, \"price\": 10, \"total\": 30}\n",
    "]\n",
    "```\n",
    "Loop through and fix any incorrect `total` values."
   ]
  },
  {
   "cell_type": "code",
   "execution_count": null,
   "id": "38",
   "metadata": {},
   "outputs": [],
   "source": []
  },
  {
   "cell_type": "markdown",
   "id": "39",
   "metadata": {},
   "source": [
    "**Exercise 20: Unique Words**\n",
    "\n",
    "Given a string sentence, split it into words and create a set of unique words. Print the set and its length."
   ]
  },
  {
   "cell_type": "code",
   "execution_count": null,
   "id": "40",
   "metadata": {},
   "outputs": [],
   "source": []
  }
 ],
 "metadata": {
  "kernelspec": {
   "display_name": "venv",
   "language": "python",
   "name": "python3"
  },
  "language_info": {
   "codemirror_mode": {
    "name": "ipython",
    "version": 3
   },
   "file_extension": ".py",
   "mimetype": "text/x-python",
   "name": "python",
   "nbconvert_exporter": "python",
   "pygments_lexer": "ipython3",
   "version": "3.10.18"
  }
 },
 "nbformat": 4,
 "nbformat_minor": 5
}
