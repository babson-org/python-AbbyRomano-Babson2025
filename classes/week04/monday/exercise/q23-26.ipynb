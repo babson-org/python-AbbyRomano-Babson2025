{
  "cells": [
    {
      "cell_type": "markdown",
      "metadata": {},
      "source": [
        "# 🧪 Lab 1 Reinforcement Exercises\n",
        "These exercises build on Lab 1 concepts: input handling, string manipulation, control flow, and basic algorithms.\n",
        "Each problem includes a full description and a code cell for your solution."
      ]
    },
    {
      "cell_type": "markdown",
      "metadata": {},
      "source": [
        "## 🟩 Exercise 25: Vowel and Consonant Counter\n",
        "**Problem:** Ask the user for a block of text. Count and display the number of vowels and consonants. Ignore non-letter characters.\n",
        "\n",
        "**Input:**\n",
        "- A string of text\n",
        "\n",
        "**Output:**\n",
        "- Number of vowels\n",
        "- Number of consonants"
      ]
    },
    {
      "cell_type": "code",
      "execution_count": null,
      "metadata": {},
      "outputs": [
        {
          "name": "stdout",
          "output_type": "stream",
          "text": [
            "vowels: 6\n",
            "consonants: 11\n"
          ]
        }
      ],
      "source": [
        "#ask user for text block, define values and create loops to count for vowels and consonants \n",
        "txt = input('Enter a block of text!')\n",
        "\n",
        "vowels = 'aeiouAEIOU'\n",
        "vowel_count = 0\n",
        "for char in txt:\n",
        "    if char in vowels:\n",
        "        vowel_count += 1\n",
        "\n",
        "consonant_count = 0\n",
        "for char in txt:\n",
        "    if char.isalpha() and char not in vowels:\n",
        "        consonant_count += 1\n",
        "\n",
        "print('vowels:', vowel_count) \n",
        "print('consonants:', consonant_count)\n",
        "\n",
        "    \n",
        "# end def"
      ]
    },
    {
      "cell_type": "markdown",
      "metadata": {},
      "source": [
        "## 🟩 Exercise 26: Longest Word Finder\n",
        "**Problem:** Ask the user for a sentence. Identify and print the longest word. Strip punctuation from words before comparing lengths.\n",
        "\n",
        "**Input:**\n",
        "- A sentence with words and punctuation\n",
        "\n",
        "**Output:**\n",
        "- The longest word (punctuation removed)"
      ]
    },
    {
      "cell_type": "code",
      "execution_count": null,
      "metadata": {},
      "outputs": [
        {
          "name": "stdout",
          "output_type": "stream",
          "text": [
            "The longest word is: minnessottaaaa\n"
          ]
        }
      ],
      "source": [
        "#ask for sentence, split into list of words, find longest word with max function and length as key\n",
        "sentence = input('Enter a sentence: ')\n",
        "words = sentence.split()\n",
        "longest_word = max(words, key=len)\n",
        "print('The longest word is:', longest_word)\n"
      ]
    },
    {
      "cell_type": "markdown",
      "metadata": {},
      "source": [
        "## 🟩 Exercise 27: Sentence Type Breakdown\n",
        "**Problem:** Ask the user for a block of text. Count how many sentences end with `.`, `?`, and `!`. Display a breakdown of sentence types.\n",
        "\n",
        "**Input:**\n",
        "- A block of text\n",
        "\n",
        "**Output:**\n",
        "- Total number of sentences\n",
        "- Number of declarative (.), interrogative (?), and exclamatory (!) sentences"
      ]
    },
    {
      "cell_type": "code",
      "execution_count": null,
      "metadata": {},
      "outputs": [
        {
          "name": "stdout",
          "output_type": "stream",
          "text": [
            "Please only use letters! Try again.\n",
            "sentences: 2\n",
            "declarative: 1\n",
            "iterrogative: 0\n",
            "exclamatory: 1\n"
          ]
        }
      ],
      "source": [
        "#define a function and ask for text input \n",
        "def sentence_breakdown():\n",
        "    txt = input('Enter a block of text!')\n",
        "\n",
        "#create a loop to count for sentences, periods, question marks and exclamaion points; also error catch for non-letter characters\n",
        "    sentence_count = 0 \n",
        "    for char in txt: \n",
        "        if not char.isalpha() and not char.isspace() and char not in '.?!':\n",
        "            print('Please only use letters! Try again.')\n",
        "            return sentence_breakdown()\n",
        "\n",
        "        if char in '.?!':\n",
        "            sentence_count += 1\n",
        "\n",
        "    period_count = 0 \n",
        "    for char in txt:\n",
        "        if char in '.':\n",
        "            period_count += 1\n",
        "\n",
        "    question_count = 0 \n",
        "    for char in txt: \n",
        "        if char in '?':\n",
        "            question_count += 1\n",
        "\n",
        "    exclamation_count = 0 \n",
        "    for char in txt:\n",
        "        if char in '!':\n",
        "            exclamation_count += 1\n",
        "\n",
        "    print('sentences:', sentence_count)\n",
        "    print('declarative:', period_count)\n",
        "    print('iterrogative:', question_count)\n",
        "    print('exclamatory:', exclamation_count)\n",
        "\n",
        "sentence_breakdown()\n",
        "\n",
        "\n",
        "\n"
      ]
    },
    {
      "cell_type": "markdown",
      "metadata": {},
      "source": [
        "## Exercise 28: Caesar Cipher Key Finder\n",
        "\n",
        "Objective: Write a program to decode a message when the key is unknown, using reasoning instead of trying all shifts.\n",
        "\n",
        "Scenario:\n",
        "-    You receive an encrypted message:\n",
        "-    Encrypted message: 'KHOOR ZRUOG'\n",
        "-    Hint: The first word is 'HELLO'\n",
        "  \n",
        "  \n",
        "Tasks:\n",
        "-    Identify the shift key\n",
        "-    Use the hint ('HELLO') to determine the number of positions the letters were shifted.\n",
        "-    Think: 'H' ? 'K', what shift was applied?\n",
        "-    Decode the full message\n",
        "-    Write a function decode_caesar(message, key) that takes the encrypted message and the key you found.\n",
        "-    Print the decrypted message."
      ]
    },
    {
      "cell_type": "code",
      "execution_count": null,
      "metadata": {},
      "outputs": [
        {
          "name": "stdout",
          "output_type": "stream",
          "text": [
            "Decoded message:  HELLO WORLD\n"
          ]
        }
      ],
      "source": [
        "#Shift 3: z is 3 away from w, k is 3 away from h and so on \n",
        "\n",
        "message = input('Enter a message to decode: ')\n",
        "key = int(input('Enter the key (1-25): '))\n",
        "\n",
        "def decode_caesar(message, key):\n",
        "    result = ' '\n",
        "    for char in message: \n",
        "        if char.isalpha():\n",
        "            start = ord('A') if char.isupper() else ord('a')\n",
        "            result += chr((ord(char) - start - key) % 26 + start)\n",
        "        else: \n",
        "            result += char\n",
        "    return result\n",
        "\n",
        "decoded_message = decode_caesar(message, key)\n",
        "print('Decoded message:', decoded_message)"
      ]
    }
  ],
  "metadata": {
    "kernelspec": {
      "display_name": "venv (3.10.18)",
      "language": "python",
      "name": "python3"
    },
    "language_info": {
      "codemirror_mode": {
        "name": "ipython",
        "version": 3
      },
      "file_extension": ".py",
      "mimetype": "text/x-python",
      "name": "python",
      "nbconvert_exporter": "python",
      "pygments_lexer": "ipython3",
      "version": "3.10.18"
    }
  },
  "nbformat": 4,
  "nbformat_minor": 2
}
